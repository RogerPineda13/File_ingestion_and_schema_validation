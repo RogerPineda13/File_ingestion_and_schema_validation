{
 "cells": [
  {
   "cell_type": "code",
   "execution_count": 17,
   "metadata": {},
   "outputs": [],
   "source": [
    "import pandas as pd\n",
    "import os\n",
    "from dask import dataframe as d\n",
    "import time"
   ]
  },
  {
   "cell_type": "code",
   "execution_count": 22,
   "metadata": {},
   "outputs": [],
   "source": [
    "#Reading in data with pandas and saving the time of installtion\n",
    "begining = time.time()\n",
    "dddf = pd.read_csv(\"C:/Users/roger/OneDrive/Documents/Combined_Flights_2021.csv\")\n",
    "finish = time.time()\n",
    "total = finish-begining"
   ]
  },
  {
   "cell_type": "code",
   "execution_count": 3,
   "metadata": {},
   "outputs": [],
   "source": [
    "# !pip install dask"
   ]
  },
  {
   "cell_type": "code",
   "execution_count": 23,
   "metadata": {
    "scrolled": true
   },
   "outputs": [],
   "source": [
    "#Reading in data with dask and saving the time of installation\n",
    "start = time.time()\n",
    "dask_df = d.read_csv(\"C:/Users/roger/OneDrive/Documents/Combined_Flights_2021.csv\")\n",
    "end  = time.time()\n",
    "total2 = end-start"
   ]
  },
  {
   "cell_type": "code",
   "execution_count": 24,
   "metadata": {},
   "outputs": [
    {
     "name": "stdout",
     "output_type": "stream",
     "text": [
      "The time it took to read in the data using pandas was 56.294713497161865\n",
      "The time it took to read in the data using dask was 0.8365993499755859\n"
     ]
    }
   ],
   "source": [
    "#Evaluating timed results\n",
    "print(f'The time it took to read in the data using pandas was {total}')\n",
    "print(f'The time it took to read in the data using dask was {total2}')"
   ]
  },
  {
   "cell_type": "markdown",
   "metadata": {},
   "source": [
    "We see that loading in the data with dask was far more superior to pandas"
   ]
  },
  {
   "cell_type": "code",
   "execution_count": 25,
   "metadata": {},
   "outputs": [
    {
     "name": "stdout",
     "output_type": "stream",
     "text": [
      "<class 'dask.dataframe.core.DataFrame'>\n",
      "Columns: 61 entries, FlightDate to DivAirportLandings\n",
      "dtypes: object(18), bool(2), float64(19), int64(22)"
     ]
    }
   ],
   "source": [
    "dask_df.info()"
   ]
  },
  {
   "cell_type": "code",
   "execution_count": 6,
   "metadata": {},
   "outputs": [
    {
     "name": "stdout",
     "output_type": "stream",
     "text": [
      "Number of rows is 6311871\n",
      "Number of columns is 61\n",
      "File size is 2214293351 in bytes\n"
     ]
    }
   ],
   "source": [
    "number_of_rows = len(dask_df)\n",
    "number_of_columns = len(dask_df.columns)\n",
    "file_size = os.path.getsize(\"C:/Users/roger/OneDrive/Documents/Combined_Flights_2021.csv\")\n",
    "print(f'Number of rows is {number_of_rows}')\n",
    "print(f'Number of columns is {number_of_columns}')\n",
    "print(f'File size is {file_size} in bytes')"
   ]
  },
  {
   "cell_type": "code",
   "execution_count": 34,
   "metadata": {},
   "outputs": [],
   "source": [
    "# Dict_1 = {'Number_of_Rows': [number_of_rows], 'Number_of_Columns': [number_of_columns], \"File_Size(in Bytes)\": [file_size]}\n",
    "# df = pd.DataFrame.from_dict(Dict_1)"
   ]
  },
  {
   "cell_type": "code",
   "execution_count": 7,
   "metadata": {},
   "outputs": [],
   "source": [
    "#Removing any white spaces within the column names\n",
    "dask_df.columns = dask_df.columns.str.replace(' ', '')\n",
    "# Removing a variety of special Characters that could be in column name\n",
    "dask_df.columns=dask_df.columns.str.replace('[#,@,_]','')"
   ]
  },
  {
   "cell_type": "code",
   "execution_count": 8,
   "metadata": {},
   "outputs": [
    {
     "data": {
      "text/plain": [
       "Index(['FlightDate', 'Airline', 'Origin', 'Dest', 'Cancelled', 'Diverted',\n",
       "       'CRSDepTime', 'DepTime', 'DepDelayMinutes', 'DepDelay', 'ArrTime',\n",
       "       'ArrDelayMinutes', 'AirTime', 'CRSElapsedTime', 'ActualElapsedTime',\n",
       "       'Distance', 'Year', 'Quarter', 'Month', 'DayofMonth', 'DayOfWeek',\n",
       "       'MarketingAirlineNetwork', 'OperatedorBrandedCodeSharePartners',\n",
       "       'DOTIDMarketingAirline', 'IATACodeMarketingAirline',\n",
       "       'FlightNumberMarketingAirline', 'OperatingAirline',\n",
       "       'DOTIDOperatingAirline', 'IATACodeOperatingAirline', 'TailNumber',\n",
       "       'FlightNumberOperatingAirline', 'OriginAirportID', 'OriginAirportSeqID',\n",
       "       'OriginCityMarketID', 'OriginCityName', 'OriginState',\n",
       "       'OriginStateFips', 'OriginStateName', 'OriginWac', 'DestAirportID',\n",
       "       'DestAirportSeqID', 'DestCityMarketID', 'DestCityName', 'DestState',\n",
       "       'DestStateFips', 'DestStateName', 'DestWac', 'DepDel15',\n",
       "       'DepartureDelayGroups', 'DepTimeBlk', 'TaxiOut', 'WheelsOff',\n",
       "       'WheelsOn', 'TaxiIn', 'CRSArrTime', 'ArrDelay', 'ArrDel15',\n",
       "       'ArrivalDelayGroups', 'ArrTimeBlk', 'DistanceGroup',\n",
       "       'DivAirportLandings'],\n",
       "      dtype='object')"
      ]
     },
     "execution_count": 8,
     "metadata": {},
     "output_type": "execute_result"
    }
   ],
   "source": [
    "dask_df.columns"
   ]
  },
  {
   "cell_type": "markdown",
   "metadata": {},
   "source": [
    "Generating py for functions to be used throughout notebook"
   ]
  },
  {
   "cell_type": "code",
   "execution_count": 9,
   "metadata": {},
   "outputs": [
    {
     "name": "stdout",
     "output_type": "stream",
     "text": [
      "Overwriting utility_file.py\n"
     ]
    }
   ],
   "source": [
    "%%writefile utility_file.py\n",
    "\n",
    "import logging\n",
    "import os\n",
    "import subprocess\n",
    "import yaml\n",
    "import pandas as pd\n",
    "import datetime \n",
    "import gc\n",
    "import re\n",
    "\n",
    "def read_config_file(filepath):\n",
    "    with open(filepath, 'r') as f:\n",
    "        try:\n",
    "            return yaml.safe_load(f)\n",
    "        except yaml.YAMLError as exc:\n",
    "            logging.error(exc)\n",
    "\n",
    "def col_header_val(df,table_config):\n",
    "    df.columns = df.columns.str.lower()\n",
    "    df.columns = df.columns.str.replace('[^\\w]','_',regex=True)\n",
    "    df.columns = list(map(lambda x: x.strip('_'), list(df.columns)))\n",
    "    expected_col = list(map(lambda x: x.lower(),  table_config['columns']))\n",
    "    expected_col.sort()\n",
    "    df.columns =list(map(lambda x: x.lower(), list(df.columns)))\n",
    "    df = df.reindex(sorted(df.columns), axis=1)\n",
    "    if len(df.columns) == len(expected_col) and list(expected_col)  == list(df.columns):\n",
    "        print(\"column name and column length validation passed\")\n",
    "        return 1\n",
    "    else:\n",
    "        print(\"column name and column length validation failed\")\n",
    "        mismatched_columns_file = list(set(df.columns).difference(expected_col))\n",
    "        print(\"Following File columns are not in the YAML file\",mismatched_columns_file)\n",
    "        missing_YAML_file = list(set(expected_col).difference(df.columns))\n",
    "        print(\"Following YAML columns are not in the file uploaded\",missing_YAML_file)\n",
    "        logging.info(f'df columns: {df.columns}')\n",
    "        logging.info(f'expected columns: {expected_col}')\n",
    "        return 0"
   ]
  },
  {
   "cell_type": "markdown",
   "metadata": {},
   "source": [
    "Creating a yaml file"
   ]
  },
  {
   "cell_type": "code",
   "execution_count": 10,
   "metadata": {},
   "outputs": [
    {
     "name": "stdout",
     "output_type": "stream",
     "text": [
      "Overwriting airline.yaml\n"
     ]
    }
   ],
   "source": [
    "%%writefile airline.yaml\n",
    "file_type: csv\n",
    "dataset_name: file\n",
    "file_name: Combined_Flights_2021\n",
    "table_name: edsurv\n",
    "inbound_delimiter: \",\"\n",
    "outbound_delimiter: \"|\"\n",
    "skip_leading_rows: 1\n",
    "columns: \n",
    "    - FlightDate\n",
    "    - Airline\n",
    "    - Origin\n",
    "    - Dest\n",
    "    - Cancelled\n",
    "    - Diverted\n",
    "    - CRSDepTime\n",
    "    - DepTime\n",
    "    - DepDelayMinutes\n",
    "    - DepDelay\n",
    "    - ArrTime\n",
    "    - ArrDelayMinutes\n",
    "    - AirTime\n",
    "    - CRSElapsedTime\n",
    "    - ActualElapsedTime\n",
    "    - Distance\n",
    "    - Year\n",
    "    - Quarter\n",
    "    - Month\n",
    "    - DayofMonth\n",
    "    - DayOfWeek\n",
    "    - MarketingAirlineNetwork\n",
    "    - OperatedorBrandedCodeSharePartners\n",
    "    - DOTIDMarketingAirline\n",
    "    - IATACodeMarketingAirline\n",
    "    - FlightNumberMarketingAirline\n",
    "    - OperatingAirline\n",
    "    - DOTIDOperatingAirline\n",
    "    - IATACodeOperatingAirline\n",
    "    - TailNumber\n",
    "    - FlightNumberOperatingAirline\n",
    "    - OriginAirportID\n",
    "    - OriginAirportSeqID\n",
    "    - OriginCityMarketID\n",
    "    - OriginCityName\n",
    "    - OriginState\n",
    "    - OriginStateFips\n",
    "    - OriginStateName\n",
    "    - OriginWac\n",
    "    - DestAirportID\n",
    "    - DestAirportSeqID\n",
    "    - DestCityMarketID\n",
    "    - DestCityName\n",
    "    - DestState\n",
    "    - DestStateFips\n",
    "    - DestStateName\n",
    "    - DestWac\n",
    "    - DepDel15\n",
    "    - DepartureDelayGroups\n",
    "    - DepTimeBlk\n",
    "    - TaxiOut\n",
    "    - WheelsOff\n",
    "    - WheelsOn\n",
    "    - TaxiIn\n",
    "    - CRSArrTime\n",
    "    - ArrDelay\n",
    "    - ArrDel15\n",
    "    - ArrivalDelayGroups\n",
    "    - ArrTimeBlk\n",
    "    - DistanceGroup\n",
    "    - DivAirportLandings"
   ]
  },
  {
   "cell_type": "code",
   "execution_count": 11,
   "metadata": {
    "scrolled": true
   },
   "outputs": [
    {
     "data": {
      "text/plain": [
       "{'file_type': 'csv',\n",
       " 'dataset_name': 'file',\n",
       " 'file_name': 'Combined_Flights_2021',\n",
       " 'table_name': 'edsurv',\n",
       " 'inbound_delimiter': ',',\n",
       " 'outbound_delimiter': '|',\n",
       " 'skip_leading_rows': 1,\n",
       " 'columns': ['FlightDate',\n",
       "  'Airline',\n",
       "  'Origin',\n",
       "  'Dest',\n",
       "  'Cancelled',\n",
       "  'Diverted',\n",
       "  'CRSDepTime',\n",
       "  'DepTime',\n",
       "  'DepDelayMinutes',\n",
       "  'DepDelay',\n",
       "  'ArrTime',\n",
       "  'ArrDelayMinutes',\n",
       "  'AirTime',\n",
       "  'CRSElapsedTime',\n",
       "  'ActualElapsedTime',\n",
       "  'Distance',\n",
       "  'Year',\n",
       "  'Quarter',\n",
       "  'Month',\n",
       "  'DayofMonth',\n",
       "  'DayOfWeek',\n",
       "  'MarketingAirlineNetwork',\n",
       "  'OperatedorBrandedCodeSharePartners',\n",
       "  'DOTIDMarketingAirline',\n",
       "  'IATACodeMarketingAirline',\n",
       "  'FlightNumberMarketingAirline',\n",
       "  'OperatingAirline',\n",
       "  'DOTIDOperatingAirline',\n",
       "  'IATACodeOperatingAirline',\n",
       "  'TailNumber',\n",
       "  'FlightNumberOperatingAirline',\n",
       "  'OriginAirportID',\n",
       "  'OriginAirportSeqID',\n",
       "  'OriginCityMarketID',\n",
       "  'OriginCityName',\n",
       "  'OriginState',\n",
       "  'OriginStateFips',\n",
       "  'OriginStateName',\n",
       "  'OriginWac',\n",
       "  'DestAirportID',\n",
       "  'DestAirportSeqID',\n",
       "  'DestCityMarketID',\n",
       "  'DestCityName',\n",
       "  'DestState',\n",
       "  'DestStateFips',\n",
       "  'DestStateName',\n",
       "  'DestWac',\n",
       "  'DepDel15',\n",
       "  'DepartureDelayGroups',\n",
       "  'DepTimeBlk',\n",
       "  'TaxiOut',\n",
       "  'WheelsOff',\n",
       "  'WheelsOn',\n",
       "  'TaxiIn',\n",
       "  'CRSArrTime',\n",
       "  'ArrDelay',\n",
       "  'ArrDel15',\n",
       "  'ArrivalDelayGroups',\n",
       "  'ArrTimeBlk',\n",
       "  'DistanceGroup',\n",
       "  'DivAirportLandings']}"
      ]
     },
     "execution_count": 11,
     "metadata": {},
     "output_type": "execute_result"
    }
   ],
   "source": [
    "import utility_file as util\n",
    "data = util.read_config_file(\"airline.yaml\")\n",
    "data"
   ]
  },
  {
   "cell_type": "code",
   "execution_count": 12,
   "metadata": {},
   "outputs": [],
   "source": [
    "# read the file using config file\n",
    "file_type = data['file_type']\n",
    "source_file = \"C:/Users/roger/OneDrive/Documents/\" + data['file_name'] + f'.{file_type}'"
   ]
  },
  {
   "cell_type": "code",
   "execution_count": 13,
   "metadata": {},
   "outputs": [
    {
     "name": "stdout",
     "output_type": "stream",
     "text": [
      "column name and column length validation failed\n",
      "Following File columns are not in the YAML file ['marketing_airline_network', 'operating_airline', 'dot_id_operating_airline', 'dot_id_marketing_airline', 'operated_or_branded_code_share_partners', 'iata_code_marketing_airline', 'flight_number_operating_airline', 'iata_code_operating_airline', 'flight_number_marketing_airline', 'tail_number']\n",
      "Following YAML columns are not in the file uploaded ['iatacodemarketingairline', 'operatingairline', 'iatacodeoperatingairline', 'dotidoperatingairline', 'flightnumberoperatingairline', 'flightnumbermarketingairline', 'tailnumber', 'marketingairlinenetwork', 'dotidmarketingairline', 'operatedorbrandedcodesharepartners']\n"
     ]
    },
    {
     "data": {
      "text/plain": [
       "0"
      ]
     },
     "execution_count": 13,
     "metadata": {},
     "output_type": "execute_result"
    }
   ],
   "source": [
    "#Testing the validation\n",
    "util.col_header_val(dddf,data)"
   ]
  },
  {
   "cell_type": "code",
   "execution_count": 32,
   "metadata": {},
   "outputs": [],
   "source": [
    "# !pip uninstall pandas\n",
    "# !pip install pandas==1.1.5\n",
    "#Had to revert to older version of pandas to complete the to csv conversion"
   ]
  },
  {
   "cell_type": "code",
   "execution_count": 26,
   "metadata": {},
   "outputs": [
    {
     "data": {
      "text/plain": [
       "['C:\\\\Users\\\\roger\\\\OneDrive\\\\Documents\\\\Data_Glacier_Week_6\\\\File_ingestion_and_schema_validation\\\\airline.csv.gz\\\\00.part',\n",
       " 'C:\\\\Users\\\\roger\\\\OneDrive\\\\Documents\\\\Data_Glacier_Week_6\\\\File_ingestion_and_schema_validation\\\\airline.csv.gz\\\\01.part',\n",
       " 'C:\\\\Users\\\\roger\\\\OneDrive\\\\Documents\\\\Data_Glacier_Week_6\\\\File_ingestion_and_schema_validation\\\\airline.csv.gz\\\\02.part',\n",
       " 'C:\\\\Users\\\\roger\\\\OneDrive\\\\Documents\\\\Data_Glacier_Week_6\\\\File_ingestion_and_schema_validation\\\\airline.csv.gz\\\\03.part',\n",
       " 'C:\\\\Users\\\\roger\\\\OneDrive\\\\Documents\\\\Data_Glacier_Week_6\\\\File_ingestion_and_schema_validation\\\\airline.csv.gz\\\\04.part',\n",
       " 'C:\\\\Users\\\\roger\\\\OneDrive\\\\Documents\\\\Data_Glacier_Week_6\\\\File_ingestion_and_schema_validation\\\\airline.csv.gz\\\\05.part',\n",
       " 'C:\\\\Users\\\\roger\\\\OneDrive\\\\Documents\\\\Data_Glacier_Week_6\\\\File_ingestion_and_schema_validation\\\\airline.csv.gz\\\\06.part',\n",
       " 'C:\\\\Users\\\\roger\\\\OneDrive\\\\Documents\\\\Data_Glacier_Week_6\\\\File_ingestion_and_schema_validation\\\\airline.csv.gz\\\\07.part',\n",
       " 'C:\\\\Users\\\\roger\\\\OneDrive\\\\Documents\\\\Data_Glacier_Week_6\\\\File_ingestion_and_schema_validation\\\\airline.csv.gz\\\\08.part',\n",
       " 'C:\\\\Users\\\\roger\\\\OneDrive\\\\Documents\\\\Data_Glacier_Week_6\\\\File_ingestion_and_schema_validation\\\\airline.csv.gz\\\\09.part',\n",
       " 'C:\\\\Users\\\\roger\\\\OneDrive\\\\Documents\\\\Data_Glacier_Week_6\\\\File_ingestion_and_schema_validation\\\\airline.csv.gz\\\\10.part',\n",
       " 'C:\\\\Users\\\\roger\\\\OneDrive\\\\Documents\\\\Data_Glacier_Week_6\\\\File_ingestion_and_schema_validation\\\\airline.csv.gz\\\\11.part',\n",
       " 'C:\\\\Users\\\\roger\\\\OneDrive\\\\Documents\\\\Data_Glacier_Week_6\\\\File_ingestion_and_schema_validation\\\\airline.csv.gz\\\\12.part',\n",
       " 'C:\\\\Users\\\\roger\\\\OneDrive\\\\Documents\\\\Data_Glacier_Week_6\\\\File_ingestion_and_schema_validation\\\\airline.csv.gz\\\\13.part',\n",
       " 'C:\\\\Users\\\\roger\\\\OneDrive\\\\Documents\\\\Data_Glacier_Week_6\\\\File_ingestion_and_schema_validation\\\\airline.csv.gz\\\\14.part',\n",
       " 'C:\\\\Users\\\\roger\\\\OneDrive\\\\Documents\\\\Data_Glacier_Week_6\\\\File_ingestion_and_schema_validation\\\\airline.csv.gz\\\\15.part',\n",
       " 'C:\\\\Users\\\\roger\\\\OneDrive\\\\Documents\\\\Data_Glacier_Week_6\\\\File_ingestion_and_schema_validation\\\\airline.csv.gz\\\\16.part',\n",
       " 'C:\\\\Users\\\\roger\\\\OneDrive\\\\Documents\\\\Data_Glacier_Week_6\\\\File_ingestion_and_schema_validation\\\\airline.csv.gz\\\\17.part',\n",
       " 'C:\\\\Users\\\\roger\\\\OneDrive\\\\Documents\\\\Data_Glacier_Week_6\\\\File_ingestion_and_schema_validation\\\\airline.csv.gz\\\\18.part',\n",
       " 'C:\\\\Users\\\\roger\\\\OneDrive\\\\Documents\\\\Data_Glacier_Week_6\\\\File_ingestion_and_schema_validation\\\\airline.csv.gz\\\\19.part',\n",
       " 'C:\\\\Users\\\\roger\\\\OneDrive\\\\Documents\\\\Data_Glacier_Week_6\\\\File_ingestion_and_schema_validation\\\\airline.csv.gz\\\\20.part',\n",
       " 'C:\\\\Users\\\\roger\\\\OneDrive\\\\Documents\\\\Data_Glacier_Week_6\\\\File_ingestion_and_schema_validation\\\\airline.csv.gz\\\\21.part',\n",
       " 'C:\\\\Users\\\\roger\\\\OneDrive\\\\Documents\\\\Data_Glacier_Week_6\\\\File_ingestion_and_schema_validation\\\\airline.csv.gz\\\\22.part',\n",
       " 'C:\\\\Users\\\\roger\\\\OneDrive\\\\Documents\\\\Data_Glacier_Week_6\\\\File_ingestion_and_schema_validation\\\\airline.csv.gz\\\\23.part',\n",
       " 'C:\\\\Users\\\\roger\\\\OneDrive\\\\Documents\\\\Data_Glacier_Week_6\\\\File_ingestion_and_schema_validation\\\\airline.csv.gz\\\\24.part',\n",
       " 'C:\\\\Users\\\\roger\\\\OneDrive\\\\Documents\\\\Data_Glacier_Week_6\\\\File_ingestion_and_schema_validation\\\\airline.csv.gz\\\\25.part',\n",
       " 'C:\\\\Users\\\\roger\\\\OneDrive\\\\Documents\\\\Data_Glacier_Week_6\\\\File_ingestion_and_schema_validation\\\\airline.csv.gz\\\\26.part',\n",
       " 'C:\\\\Users\\\\roger\\\\OneDrive\\\\Documents\\\\Data_Glacier_Week_6\\\\File_ingestion_and_schema_validation\\\\airline.csv.gz\\\\27.part',\n",
       " 'C:\\\\Users\\\\roger\\\\OneDrive\\\\Documents\\\\Data_Glacier_Week_6\\\\File_ingestion_and_schema_validation\\\\airline.csv.gz\\\\28.part',\n",
       " 'C:\\\\Users\\\\roger\\\\OneDrive\\\\Documents\\\\Data_Glacier_Week_6\\\\File_ingestion_and_schema_validation\\\\airline.csv.gz\\\\29.part',\n",
       " 'C:\\\\Users\\\\roger\\\\OneDrive\\\\Documents\\\\Data_Glacier_Week_6\\\\File_ingestion_and_schema_validation\\\\airline.csv.gz\\\\30.part',\n",
       " 'C:\\\\Users\\\\roger\\\\OneDrive\\\\Documents\\\\Data_Glacier_Week_6\\\\File_ingestion_and_schema_validation\\\\airline.csv.gz\\\\31.part',\n",
       " 'C:\\\\Users\\\\roger\\\\OneDrive\\\\Documents\\\\Data_Glacier_Week_6\\\\File_ingestion_and_schema_validation\\\\airline.csv.gz\\\\32.part',\n",
       " 'C:\\\\Users\\\\roger\\\\OneDrive\\\\Documents\\\\Data_Glacier_Week_6\\\\File_ingestion_and_schema_validation\\\\airline.csv.gz\\\\33.part']"
      ]
     },
     "execution_count": 26,
     "metadata": {},
     "output_type": "execute_result"
    }
   ],
   "source": [
    "import csv\n",
    "import gzip\n",
    "\n",
    "dask_df.to_csv('airline.csv.gz',\n",
    "          sep='|',\n",
    "          header=True,\n",
    "          index=False,\n",
    "          quoting=csv.QUOTE_ALL,\n",
    "          compression='gzip',\n",
    "          quotechar='\"',\n",
    "          doublequote=True,\n",
    "          line_terminator='\\n')"
   ]
  },
  {
   "cell_type": "code",
   "execution_count": 31,
   "metadata": {},
   "outputs": [
    {
     "name": "stdout",
     "output_type": "stream",
     "text": [
      "The total size of the gz file is 12288\n",
      "The total length of the directory is 34\n"
     ]
    }
   ],
   "source": [
    "total_size = os.path.getsize(\"C:/Users/roger/OneDrive/Documents/Data_Glacier_Week_6/File_ingestion_and_schema_validation/airline.csv.gz\")\n",
    "total_length = len(os.listdir(\"C:/Users/roger/OneDrive/Documents/Data_Glacier_Week_6/File_ingestion_and_schema_validation/airline.csv.gz\"))\n",
    "print(f'The total size of the gz file is {total_size}')\n",
    "print(f'The total length of the directory is {total_length}')"
   ]
  },
  {
   "cell_type": "code",
   "execution_count": null,
   "metadata": {},
   "outputs": [],
   "source": []
  }
 ],
 "metadata": {
  "kernelspec": {
   "display_name": "Python 3",
   "language": "python",
   "name": "python3"
  },
  "language_info": {
   "codemirror_mode": {
    "name": "ipython",
    "version": 3
   },
   "file_extension": ".py",
   "mimetype": "text/x-python",
   "name": "python",
   "nbconvert_exporter": "python",
   "pygments_lexer": "ipython3",
   "version": "3.8.5"
  }
 },
 "nbformat": 4,
 "nbformat_minor": 4
}
